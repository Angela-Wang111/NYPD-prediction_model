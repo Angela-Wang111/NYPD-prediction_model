{
 "cells": [
  {
   "cell_type": "markdown",
   "metadata": {},
   "source": [
    "# NYPD Allegations"
   ]
  },
  {
   "cell_type": "markdown",
   "metadata": {},
   "source": [
    "# Summary of Findings\n",
    "\n",
    "\n",
    "### Introduction\n",
    "  Our prediction problem is to classify whether each alleged incident is confirmed (substantiated or exonerated) by board or not (unsubstantiated) based on selected columns. It is a classification problem. We picked our target variable to be the board disposition because we think it is the most important column and it is the outcome of the entire dataframe. Also, we think that a lot of other features probably contribute to help predict this final result. We decided to use F1 score as our evaluation metric because it is a metric taking both the true positive rate and precision into consideration. If the true positive rate is too low, it would be unfair for the complainant and if the precision is too low, it would also be unfair for the officer.\n",
    "\n",
    "### Baseline Model\n",
    "In our baseline model, we used a Logistic Regression Model with 15 features, 2 of which are quantitative, 4 are ordinal, and 9 are nominal. We dropped some columns that are deemed not contributing to the final outcome or not obtainable at the time of prediction, some of which include \"unique_mos_id\", \"rank_abbrev_now\", \"rank_now\", and \"complaint_id\". We think \"rank_abbrev_now\", \"rank_now\", \"command_now\" columns will not be available at the time of prediction, and columns like \"outcome_description\", \"unique_mos_id\", \"first_name\", \"last_name\", \"complaint_id\", \"shield_no\" are not very helpful. \"rank_incident\" already has a similar column \"rank_abbrev_incident\". The \"precinct\" column is also dropped because it is not directly related to the allegation outcome, and it is recorded as numbers in the original dataframe, and easily treated by the model as quantitative even though it is nominal. The mean F1 score from the baseline model is about 0.71-0.73 depending on the train-test split, which is not bad but can definitely be improved, since the best score for F1 score is 1 and the worst is 0. We have not done much feature engineering on the original table, thus the F1 score still has the potential to be higher.\n",
    "\n",
    "### Final Model\n",
    "Firstly, we changed our classifier from Logistic Regression to K-Neighbors Classifier and Random Forest Classifier to see if there are any improvements. After checking the mean F1 score of these two new classifiers and comparing them with the mean F1 score of the base line model (Logistic Regression), we decided to use Random Forest Classifier, which has the highest F1 score, as our final classifier.\n",
    "Secondly, we added two new features to the data set. The first one is whether the officer and the complainant have the same ethnicity. The reason why we include this feature is that we think the board might take the racial problem into consideration when giving the final desposition. The other feature is the duration of the case calculated by the year/month received and year/month closed. We think that for non-confirmed case (Unsubstantiated), the board might take longer time to investigate to make this despotion. The EDA on these two features also shows that there is a difference in mean between the two categories.\n",
    "The final effort on choosing the final model is that we use Grid Search Cross-validation to decide the best max_depth for the Random Forest Classifer. \n",
    "\n",
    "### Fairness Evaluation\n",
    "For the fairness evaluation, we want to evaluate the fairness based on the ethnicity of the officers. For simplicity, we binarize the ethnicity into White and Non-white. The prediction and the evaluation is done with only the test set.\n",
    "When doing this fairness evaluation, we would use precision as the metric. The reason is that if the precision (proportion of correct positive identification) is too low for one ethnicity group, there would be many false positive cases and significantly affects the reputation of the officer. \n",
    "\n",
    "For the permutation test: \n",
    "- Null Hypothesis: the precision socre for white officers and non-white officers are the same\n",
    "- Alternative Hypothesis: the precision socre for white officers and non-white officers are not the same\n",
    "\n",
    "Our p-value from the permutation test is 0.53. Since the p-value is larger than 0.05, we fail to reject the null hypothesis. The result of this fairness evaluation is that our model is fair for both the white officers and non-white officers in terms of precision score. We also used confusion matrix to confirm our result."
   ]
  },
  {
   "cell_type": "markdown",
   "metadata": {},
   "source": [
    "<hr>"
   ]
  },
  {
   "cell_type": "markdown",
   "metadata": {},
   "source": [
    "# Code"
   ]
  },
  {
   "cell_type": "code",
   "execution_count": 1,
   "metadata": {},
   "outputs": [],
   "source": [
    "import matplotlib.pyplot as plt\n",
    "import numpy as np\n",
    "import os\n",
    "import pandas as pd\n",
    "import seaborn as sns\n",
    "%matplotlib inline\n",
    "%config InlineBackend.figure_format = 'retina'  # Higher resolution figures"
   ]
  },
  {
   "cell_type": "code",
   "execution_count": 2,
   "metadata": {},
   "outputs": [],
   "source": [
    "from sklearn.preprocessing import FunctionTransformer\n",
    "from sklearn.preprocessing import OneHotEncoder\n",
    "from sklearn.pipeline import Pipeline\n",
    "from sklearn.compose import ColumnTransformer\n",
    "\n",
    "from sklearn.model_selection import train_test_split\n",
    "from sklearn.linear_model import LogisticRegression\n",
    "from sklearn.ensemble import RandomForestClassifier\n",
    "from sklearn.neighbors import KNeighborsClassifier\n",
    "from sklearn.model_selection import GridSearchCV\n",
    "\n",
    "from sklearn.metrics import f1_score\n",
    "from sklearn.metrics import precision_score\n",
    "from sklearn.metrics import recall_score\n",
    "from sklearn.metrics import confusion_matrix\n",
    "from sklearn.metrics import ConfusionMatrixDisplay\n"
   ]
  },
  {
   "cell_type": "code",
   "execution_count": 3,
   "metadata": {},
   "outputs": [
    {
     "data": {
      "text/html": [
       "<div>\n",
       "<style scoped>\n",
       "    .dataframe tbody tr th:only-of-type {\n",
       "        vertical-align: middle;\n",
       "    }\n",
       "\n",
       "    .dataframe tbody tr th {\n",
       "        vertical-align: top;\n",
       "    }\n",
       "\n",
       "    .dataframe thead th {\n",
       "        text-align: right;\n",
       "    }\n",
       "</style>\n",
       "<table border=\"1\" class=\"dataframe\">\n",
       "  <thead>\n",
       "    <tr style=\"text-align: right;\">\n",
       "      <th></th>\n",
       "      <th>unique_mos_id</th>\n",
       "      <th>first_name</th>\n",
       "      <th>last_name</th>\n",
       "      <th>command_now</th>\n",
       "      <th>shield_no</th>\n",
       "      <th>complaint_id</th>\n",
       "      <th>month_received</th>\n",
       "      <th>year_received</th>\n",
       "      <th>month_closed</th>\n",
       "      <th>year_closed</th>\n",
       "      <th>...</th>\n",
       "      <th>mos_age_incident</th>\n",
       "      <th>complainant_ethnicity</th>\n",
       "      <th>complainant_gender</th>\n",
       "      <th>complainant_age_incident</th>\n",
       "      <th>fado_type</th>\n",
       "      <th>allegation</th>\n",
       "      <th>precinct</th>\n",
       "      <th>contact_reason</th>\n",
       "      <th>outcome_description</th>\n",
       "      <th>board_disposition</th>\n",
       "    </tr>\n",
       "  </thead>\n",
       "  <tbody>\n",
       "    <tr>\n",
       "      <th>0</th>\n",
       "      <td>10004</td>\n",
       "      <td>Jonathan</td>\n",
       "      <td>Ruiz</td>\n",
       "      <td>078 PCT</td>\n",
       "      <td>8409</td>\n",
       "      <td>42835</td>\n",
       "      <td>7</td>\n",
       "      <td>2019</td>\n",
       "      <td>5</td>\n",
       "      <td>2020</td>\n",
       "      <td>...</td>\n",
       "      <td>32</td>\n",
       "      <td>Black</td>\n",
       "      <td>Female</td>\n",
       "      <td>38.0</td>\n",
       "      <td>Abuse of Authority</td>\n",
       "      <td>Failure to provide RTKA card</td>\n",
       "      <td>78.0</td>\n",
       "      <td>Report-domestic dispute</td>\n",
       "      <td>No arrest made or summons issued</td>\n",
       "      <td>Substantiated (Command Lvl Instructions)</td>\n",
       "    </tr>\n",
       "    <tr>\n",
       "      <th>1</th>\n",
       "      <td>10007</td>\n",
       "      <td>John</td>\n",
       "      <td>Sears</td>\n",
       "      <td>078 PCT</td>\n",
       "      <td>5952</td>\n",
       "      <td>24601</td>\n",
       "      <td>11</td>\n",
       "      <td>2011</td>\n",
       "      <td>8</td>\n",
       "      <td>2012</td>\n",
       "      <td>...</td>\n",
       "      <td>24</td>\n",
       "      <td>Black</td>\n",
       "      <td>Male</td>\n",
       "      <td>26.0</td>\n",
       "      <td>Discourtesy</td>\n",
       "      <td>Action</td>\n",
       "      <td>67.0</td>\n",
       "      <td>Moving violation</td>\n",
       "      <td>Moving violation summons issued</td>\n",
       "      <td>Substantiated (Charges)</td>\n",
       "    </tr>\n",
       "    <tr>\n",
       "      <th>2</th>\n",
       "      <td>10007</td>\n",
       "      <td>John</td>\n",
       "      <td>Sears</td>\n",
       "      <td>078 PCT</td>\n",
       "      <td>5952</td>\n",
       "      <td>24601</td>\n",
       "      <td>11</td>\n",
       "      <td>2011</td>\n",
       "      <td>8</td>\n",
       "      <td>2012</td>\n",
       "      <td>...</td>\n",
       "      <td>24</td>\n",
       "      <td>Black</td>\n",
       "      <td>Male</td>\n",
       "      <td>26.0</td>\n",
       "      <td>Offensive Language</td>\n",
       "      <td>Race</td>\n",
       "      <td>67.0</td>\n",
       "      <td>Moving violation</td>\n",
       "      <td>Moving violation summons issued</td>\n",
       "      <td>Substantiated (Charges)</td>\n",
       "    </tr>\n",
       "    <tr>\n",
       "      <th>3</th>\n",
       "      <td>10007</td>\n",
       "      <td>John</td>\n",
       "      <td>Sears</td>\n",
       "      <td>078 PCT</td>\n",
       "      <td>5952</td>\n",
       "      <td>26146</td>\n",
       "      <td>7</td>\n",
       "      <td>2012</td>\n",
       "      <td>9</td>\n",
       "      <td>2013</td>\n",
       "      <td>...</td>\n",
       "      <td>25</td>\n",
       "      <td>Black</td>\n",
       "      <td>Male</td>\n",
       "      <td>45.0</td>\n",
       "      <td>Abuse of Authority</td>\n",
       "      <td>Question</td>\n",
       "      <td>67.0</td>\n",
       "      <td>PD suspected C/V of violation/crime - street</td>\n",
       "      <td>No arrest made or summons issued</td>\n",
       "      <td>Substantiated (Charges)</td>\n",
       "    </tr>\n",
       "    <tr>\n",
       "      <th>4</th>\n",
       "      <td>10009</td>\n",
       "      <td>Noemi</td>\n",
       "      <td>Sierra</td>\n",
       "      <td>078 PCT</td>\n",
       "      <td>24058</td>\n",
       "      <td>40253</td>\n",
       "      <td>8</td>\n",
       "      <td>2018</td>\n",
       "      <td>2</td>\n",
       "      <td>2019</td>\n",
       "      <td>...</td>\n",
       "      <td>39</td>\n",
       "      <td>NaN</td>\n",
       "      <td>NaN</td>\n",
       "      <td>16.0</td>\n",
       "      <td>Force</td>\n",
       "      <td>Physical force</td>\n",
       "      <td>67.0</td>\n",
       "      <td>Report-dispute</td>\n",
       "      <td>Arrest - other violation/crime</td>\n",
       "      <td>Substantiated (Command Discipline A)</td>\n",
       "    </tr>\n",
       "  </tbody>\n",
       "</table>\n",
       "<p>5 rows × 27 columns</p>\n",
       "</div>"
      ],
      "text/plain": [
       "   unique_mos_id first_name last_name command_now  shield_no  complaint_id  \\\n",
       "0          10004   Jonathan      Ruiz     078 PCT       8409         42835   \n",
       "1          10007       John     Sears     078 PCT       5952         24601   \n",
       "2          10007       John     Sears     078 PCT       5952         24601   \n",
       "3          10007       John     Sears     078 PCT       5952         26146   \n",
       "4          10009      Noemi    Sierra     078 PCT      24058         40253   \n",
       "\n",
       "   month_received  year_received  month_closed  year_closed  ...  \\\n",
       "0               7           2019             5         2020  ...   \n",
       "1              11           2011             8         2012  ...   \n",
       "2              11           2011             8         2012  ...   \n",
       "3               7           2012             9         2013  ...   \n",
       "4               8           2018             2         2019  ...   \n",
       "\n",
       "  mos_age_incident complainant_ethnicity complainant_gender  \\\n",
       "0               32                 Black             Female   \n",
       "1               24                 Black               Male   \n",
       "2               24                 Black               Male   \n",
       "3               25                 Black               Male   \n",
       "4               39                   NaN                NaN   \n",
       "\n",
       "  complainant_age_incident           fado_type                    allegation  \\\n",
       "0                     38.0  Abuse of Authority  Failure to provide RTKA card   \n",
       "1                     26.0         Discourtesy                        Action   \n",
       "2                     26.0  Offensive Language                          Race   \n",
       "3                     45.0  Abuse of Authority                      Question   \n",
       "4                     16.0               Force                Physical force   \n",
       "\n",
       "  precinct                                contact_reason  \\\n",
       "0     78.0                       Report-domestic dispute   \n",
       "1     67.0                              Moving violation   \n",
       "2     67.0                              Moving violation   \n",
       "3     67.0  PD suspected C/V of violation/crime - street   \n",
       "4     67.0                                Report-dispute   \n",
       "\n",
       "                outcome_description                         board_disposition  \n",
       "0  No arrest made or summons issued  Substantiated (Command Lvl Instructions)  \n",
       "1   Moving violation summons issued                   Substantiated (Charges)  \n",
       "2   Moving violation summons issued                   Substantiated (Charges)  \n",
       "3  No arrest made or summons issued                   Substantiated (Charges)  \n",
       "4    Arrest - other violation/crime      Substantiated (Command Discipline A)  \n",
       "\n",
       "[5 rows x 27 columns]"
      ]
     },
     "execution_count": 3,
     "metadata": {},
     "output_type": "execute_result"
    }
   ],
   "source": [
    "nypd = pd.read_csv('allegations_202007271729.csv')\n",
    "nypd.head()"
   ]
  },
  {
   "cell_type": "markdown",
   "metadata": {},
   "source": [
    "<hr>"
   ]
  },
  {
   "cell_type": "markdown",
   "metadata": {},
   "source": [
    "## Baseline Model"
   ]
  },
  {
   "cell_type": "code",
   "execution_count": 4,
   "metadata": {},
   "outputs": [
    {
     "data": {
      "text/html": [
       "<div>\n",
       "<style scoped>\n",
       "    .dataframe tbody tr th:only-of-type {\n",
       "        vertical-align: middle;\n",
       "    }\n",
       "\n",
       "    .dataframe tbody tr th {\n",
       "        vertical-align: top;\n",
       "    }\n",
       "\n",
       "    .dataframe thead th {\n",
       "        text-align: right;\n",
       "    }\n",
       "</style>\n",
       "<table border=\"1\" class=\"dataframe\">\n",
       "  <thead>\n",
       "    <tr style=\"text-align: right;\">\n",
       "      <th></th>\n",
       "      <th>month_received</th>\n",
       "      <th>year_received</th>\n",
       "      <th>month_closed</th>\n",
       "      <th>year_closed</th>\n",
       "      <th>command_at_incident</th>\n",
       "      <th>rank_abbrev_incident</th>\n",
       "      <th>mos_ethnicity</th>\n",
       "      <th>mos_gender</th>\n",
       "      <th>mos_age_incident</th>\n",
       "      <th>complainant_ethnicity</th>\n",
       "      <th>complainant_gender</th>\n",
       "      <th>complainant_age_incident</th>\n",
       "      <th>fado_type</th>\n",
       "      <th>allegation</th>\n",
       "      <th>contact_reason</th>\n",
       "      <th>status</th>\n",
       "    </tr>\n",
       "  </thead>\n",
       "  <tbody>\n",
       "    <tr>\n",
       "      <th>0</th>\n",
       "      <td>7</td>\n",
       "      <td>2019</td>\n",
       "      <td>5</td>\n",
       "      <td>2020</td>\n",
       "      <td>078 PCT</td>\n",
       "      <td>POM</td>\n",
       "      <td>Hispanic</td>\n",
       "      <td>M</td>\n",
       "      <td>32</td>\n",
       "      <td>Black</td>\n",
       "      <td>Female</td>\n",
       "      <td>38</td>\n",
       "      <td>Abuse of Authority</td>\n",
       "      <td>Failure to provide RTKA card</td>\n",
       "      <td>Report-domestic dispute</td>\n",
       "      <td>1</td>\n",
       "    </tr>\n",
       "    <tr>\n",
       "      <th>1</th>\n",
       "      <td>11</td>\n",
       "      <td>2011</td>\n",
       "      <td>8</td>\n",
       "      <td>2012</td>\n",
       "      <td>PBBS</td>\n",
       "      <td>POM</td>\n",
       "      <td>White</td>\n",
       "      <td>M</td>\n",
       "      <td>24</td>\n",
       "      <td>Black</td>\n",
       "      <td>Male</td>\n",
       "      <td>26</td>\n",
       "      <td>Discourtesy</td>\n",
       "      <td>Action</td>\n",
       "      <td>Moving violation</td>\n",
       "      <td>1</td>\n",
       "    </tr>\n",
       "    <tr>\n",
       "      <th>2</th>\n",
       "      <td>11</td>\n",
       "      <td>2011</td>\n",
       "      <td>8</td>\n",
       "      <td>2012</td>\n",
       "      <td>PBBS</td>\n",
       "      <td>POM</td>\n",
       "      <td>White</td>\n",
       "      <td>M</td>\n",
       "      <td>24</td>\n",
       "      <td>Black</td>\n",
       "      <td>Male</td>\n",
       "      <td>26</td>\n",
       "      <td>Offensive Language</td>\n",
       "      <td>Race</td>\n",
       "      <td>Moving violation</td>\n",
       "      <td>1</td>\n",
       "    </tr>\n",
       "    <tr>\n",
       "      <th>3</th>\n",
       "      <td>7</td>\n",
       "      <td>2012</td>\n",
       "      <td>9</td>\n",
       "      <td>2013</td>\n",
       "      <td>PBBS</td>\n",
       "      <td>POM</td>\n",
       "      <td>White</td>\n",
       "      <td>M</td>\n",
       "      <td>25</td>\n",
       "      <td>Black</td>\n",
       "      <td>Male</td>\n",
       "      <td>45</td>\n",
       "      <td>Abuse of Authority</td>\n",
       "      <td>Question</td>\n",
       "      <td>PD suspected C/V of violation/crime - street</td>\n",
       "      <td>1</td>\n",
       "    </tr>\n",
       "    <tr>\n",
       "      <th>4</th>\n",
       "      <td>8</td>\n",
       "      <td>2018</td>\n",
       "      <td>2</td>\n",
       "      <td>2019</td>\n",
       "      <td>078 PCT</td>\n",
       "      <td>POF</td>\n",
       "      <td>Hispanic</td>\n",
       "      <td>F</td>\n",
       "      <td>39</td>\n",
       "      <td>Unknown</td>\n",
       "      <td>Not described</td>\n",
       "      <td>16</td>\n",
       "      <td>Force</td>\n",
       "      <td>Physical force</td>\n",
       "      <td>Report-dispute</td>\n",
       "      <td>1</td>\n",
       "    </tr>\n",
       "  </tbody>\n",
       "</table>\n",
       "</div>"
      ],
      "text/plain": [
       "   month_received  year_received  month_closed  year_closed  \\\n",
       "0               7           2019             5         2020   \n",
       "1              11           2011             8         2012   \n",
       "2              11           2011             8         2012   \n",
       "3               7           2012             9         2013   \n",
       "4               8           2018             2         2019   \n",
       "\n",
       "  command_at_incident rank_abbrev_incident mos_ethnicity mos_gender  \\\n",
       "0             078 PCT                  POM      Hispanic          M   \n",
       "1                PBBS                  POM         White          M   \n",
       "2                PBBS                  POM         White          M   \n",
       "3                PBBS                  POM         White          M   \n",
       "4             078 PCT                  POF      Hispanic          F   \n",
       "\n",
       "   mos_age_incident complainant_ethnicity complainant_gender  \\\n",
       "0                32                 Black             Female   \n",
       "1                24                 Black               Male   \n",
       "2                24                 Black               Male   \n",
       "3                25                 Black               Male   \n",
       "4                39               Unknown      Not described   \n",
       "\n",
       "   complainant_age_incident           fado_type                    allegation  \\\n",
       "0                        38  Abuse of Authority  Failure to provide RTKA card   \n",
       "1                        26         Discourtesy                        Action   \n",
       "2                        26  Offensive Language                          Race   \n",
       "3                        45  Abuse of Authority                      Question   \n",
       "4                        16               Force                Physical force   \n",
       "\n",
       "                                 contact_reason  status  \n",
       "0                       Report-domestic dispute       1  \n",
       "1                              Moving violation       1  \n",
       "2                              Moving violation       1  \n",
       "3  PD suspected C/V of violation/crime - street       1  \n",
       "4                                Report-dispute       1  "
      ]
     },
     "execution_count": 4,
     "metadata": {},
     "output_type": "execute_result"
    }
   ],
   "source": [
    "# Step1: Drop Columns\n",
    "police = nypd.drop(columns = ['outcome_description', \n",
    "                         'unique_mos_id', 'rank_abbrev_now', \n",
    "                         'rank_now', 'first_name', 'last_name', \n",
    "                         'command_now', 'shield_no', 'complaint_id',\n",
    "                        'rank_incident', 'precinct'])\n",
    "# Step 2: Add needed column, \n",
    "# fill nan instead of droping the row since the missness might be a good predictor\n",
    "police['status'] = np.where(police[\"board_disposition\"] == \"Exonerated\", 1, \n",
    "                            np.where(police[\"board_disposition\"] == \"Unsubstantiated\", 0, \n",
    "                         1))\n",
    "police['complainant_ethnicity'] = police['complainant_ethnicity'].fillna('Unknown')\n",
    "police = police.drop(columns = 'board_disposition')\n",
    "police['complainant_ethnicity'] = police['complainant_ethnicity'].fillna('Unknown')\n",
    "police['complainant_gender'] = police['complainant_gender'].fillna('Not described')\n",
    "police['complainant_age_incident'] = police['complainant_age_incident'].fillna('-1')\n",
    "police['complainant_age_incident'] = police['complainant_age_incident'].apply(lambda x: \n",
    "                                                        int(x) if int(x) >= 6 else -1)\n",
    "police = police.dropna()\n",
    "police.head()"
   ]
  },
  {
   "cell_type": "code",
   "execution_count": 5,
   "metadata": {},
   "outputs": [],
   "source": [
    "# ignore the Convergence warning when using logistic regression\n",
    "from warnings import filterwarnings\n",
    "filterwarnings('ignore')"
   ]
  },
  {
   "cell_type": "code",
   "execution_count": 7,
   "metadata": {},
   "outputs": [
    {
     "name": "stdout",
     "output_type": "stream",
     "text": [
      "0.7231096571036105\n",
      "[0.7193444541995901, 0.7268658168726281, 0.7258097792448938, 0.7214797598295566, 0.722048475371384]\n"
     ]
    }
   ],
   "source": [
    "#Step 3: Pipeline, and build baseline model with Logistic Regression\n",
    "preproc = ColumnTransformer(\n",
    "    transformers=[\n",
    "        ('oneHot', OneHotEncoder(handle_unknown = 'ignore'), \n",
    "         ['mos_ethnicity', 'mos_gender',                       \n",
    "          'complainant_ethnicity', \n",
    "          'complainant_gender', \n",
    "          'fado_type', \n",
    "        'contact_reason','rank_abbrev_incident', \n",
    "        'command_at_incident', 'allegation'])], \n",
    "    remainder = 'passthrough')\n",
    "pl = Pipeline([('one_hot',preproc), ('logistic', \n",
    "                                     LogisticRegression(penalty = 'none'))\n",
    "              ])\n",
    "test=[]\n",
    "# Check out the mean F1 score from the baseline model, \n",
    "# as well as see fluctuation in 5 trials\n",
    "for _ in range(5):\n",
    "    X_train, X_test, y_train, y_test = train_test_split(\n",
    "            police.drop(columns=['status']),\n",
    "            police['status'], \n",
    "            test_size=0.25)\n",
    "    pl.fit(X_train, y_train)\n",
    "    test_result = pl.predict(X_test)\n",
    "    test_accuracy = f1_score(y_test, test_result)\n",
    "    test.append(test_accuracy)\n",
    "    \n",
    "print(np.mean(test))\n",
    "print(test)"
   ]
  },
  {
   "cell_type": "markdown",
   "metadata": {},
   "source": [
    "<hr>"
   ]
  },
  {
   "cell_type": "markdown",
   "metadata": {},
   "source": [
    "## Final Model"
   ]
  },
  {
   "cell_type": "markdown",
   "metadata": {},
   "source": [
    "### Choose the best classifer"
   ]
  },
  {
   "cell_type": "code",
   "execution_count": 8,
   "metadata": {},
   "outputs": [
    {
     "name": "stdout",
     "output_type": "stream",
     "text": [
      "0.6535076344689108\n",
      "[0.6558657934045731, 0.646429803380476, 0.6585504608032767, 0.6622425629290618, 0.6444495518271662]\n"
     ]
    }
   ],
   "source": [
    "# Try other classifiers\n",
    "# KNN\n",
    "preproc = ColumnTransformer(\n",
    "    transformers=[\n",
    "        ('oneHot', OneHotEncoder(handle_unknown = 'ignore'), \n",
    "         ['mos_ethnicity', \n",
    "         'mos_gender', \n",
    "        'complainant_ethnicity', \n",
    "        'complainant_gender', \n",
    "        'fado_type', \n",
    "        'contact_reason',\n",
    "        'rank_abbrev_incident', \n",
    "        'command_at_incident', \n",
    "        'allegation'])], \n",
    "    remainder = 'passthrough')\n",
    "pl = Pipeline([('one_hot',preproc), ('KNN', KNeighborsClassifier())\n",
    "              ])\n",
    "test=[]\n",
    "# Check out the mean F1 score from KNN model and fluctuation in 5 trials, \n",
    "# compare with baseline\n",
    "for _ in range(5):\n",
    "    X_train, X_test, y_train, y_test = train_test_split(\n",
    "            police.drop(columns=['status']),\n",
    "            police['status'], \n",
    "            test_size=0.25)\n",
    "    pl.fit(X_train, y_train)\n",
    "    test_result = pl.predict(X_test)\n",
    "    test_accuracy = f1_score(y_test, test_result)\n",
    "    test.append(test_accuracy)\n",
    "    \n",
    "print(np.mean(test))\n",
    "print(test)"
   ]
  },
  {
   "cell_type": "markdown",
   "metadata": {},
   "source": [
    "The mean F1 score using KNN is significantly low than the baseline model, so we go on and seek for other options."
   ]
  },
  {
   "cell_type": "code",
   "execution_count": 9,
   "metadata": {},
   "outputs": [
    {
     "name": "stdout",
     "output_type": "stream",
     "text": [
      "0.7639003261384386\n",
      "[0.7637786472889883, 0.7686005314437556, 0.7587294435683711, 0.7619152935972576, 0.7664777147938201]\n"
     ]
    }
   ],
   "source": [
    "# Try other classifiers\n",
    "# Random Forest\n",
    "preproc = ColumnTransformer(\n",
    "    transformers=[\n",
    "        ('oneHot', OneHotEncoder(handle_unknown = 'ignore'), ['mos_ethnicity', \n",
    "                                                              'mos_gender', \n",
    "                                                              'complainant_ethnicity', \n",
    "                                                              'complainant_gender', \n",
    "                                    \n",
    "                                                              'fado_type', \n",
    "                                                              'contact_reason',\n",
    "                                                              'rank_abbrev_incident', \n",
    "                                                              'command_at_incident',\n",
    "                                                              'allegation'])], \n",
    "    remainder = 'passthrough')\n",
    "pl = Pipeline([('one_hot',preproc), ('RFC', RandomForestClassifier())\n",
    "              ])\n",
    "test=[]\n",
    "# Check out the mean F1 score from Random FOrest Classifier and its fluctuation in 5 trials,\n",
    "# and compare with KNN and baseline\n",
    "for _ in range(5):\n",
    "    X_train, X_test, y_train, y_test = train_test_split(\n",
    "            police.drop(columns=['status']),\n",
    "            police['status'], \n",
    "            test_size=0.25)\n",
    "    pl.fit(X_train, y_train)\n",
    "    test_result = pl.predict(X_test)\n",
    "    test_accuracy = f1_score(y_test, test_result)\n",
    "    test.append(test_accuracy)\n",
    "    \n",
    "print(np.mean(test))\n",
    "print(test)"
   ]
  },
  {
   "cell_type": "markdown",
   "metadata": {},
   "source": [
    "We see a significant improvement using the Random Forest Classifier, so we'll keep it as the final classifier."
   ]
  },
  {
   "cell_type": "markdown",
   "metadata": {},
   "source": [
    "### Add new features"
   ]
  },
  {
   "cell_type": "code",
   "execution_count": 10,
   "metadata": {},
   "outputs": [],
   "source": [
    "# Add a column of whether officer and complainant have the same ethnicity\n",
    "police_new = police.copy()\n",
    "police_new['ethnicity_difference'] = (police_new['complainant_ethnicity'] \n",
    "                                      == police_new['mos_ethnicity']).astype(int)\n",
    "\n",
    "# Calculate duration using month recceived and month closed, using pandas datetime \n",
    "police_new = police_new.rename(columns={'year_received':'year', \"month_received\": 'month'})\n",
    "police_new['day'] = [1]*police_new.shape[0]\n",
    "police_new['time_received'] = pd.to_datetime(police_new[['year','month', 'day']])\n",
    "police_new = police_new.rename(columns={'year':'year_received', \"month\": 'month_received'})\n",
    "police_new = police_new.rename(columns={'year_closed':'year', \"month_closed\": 'month'})\n",
    "police_new['time_closed'] = pd.to_datetime(police_new[['year','month', 'day']])\n",
    "police_new['duration'] = (police_new['time_closed'] - police_new['time_received']).astype(str)\n",
    "police_new['duration'] = police_new['duration'].str[:-4].astype(int)\n",
    "police_new = police_new.rename(columns={'year':'year_closed', \"month\": 'month_closed'})\n",
    "police_new = police_new.drop(columns={'day', 'time_received', 'time_closed'})"
   ]
  },
  {
   "cell_type": "code",
   "execution_count": 11,
   "metadata": {},
   "outputs": [
    {
     "data": {
      "text/plain": [
       "status\n",
       "0    0.227974\n",
       "1    0.199206\n",
       "Name: ethnicity_difference, dtype: float64"
      ]
     },
     "execution_count": 11,
     "metadata": {},
     "output_type": "execute_result"
    }
   ],
   "source": [
    "# Explore the average ethnicity difference across each final status(confirmed or not)\n",
    "police_new.groupby('status').mean()['ethnicity_difference']"
   ]
  },
  {
   "cell_type": "code",
   "execution_count": 12,
   "metadata": {},
   "outputs": [
    {
     "data": {
      "text/plain": [
       "status\n",
       "0    317.237197\n",
       "1    301.349224\n",
       "Name: duration, dtype: float64"
      ]
     },
     "execution_count": 12,
     "metadata": {},
     "output_type": "execute_result"
    }
   ],
   "source": [
    "# Explore the average duration of allegations across each final status(confirmed or not)\n",
    "police_new.groupby('status').mean()['duration']"
   ]
  },
  {
   "cell_type": "code",
   "execution_count": 13,
   "metadata": {},
   "outputs": [
    {
     "data": {
      "text/html": [
       "<div>\n",
       "<style scoped>\n",
       "    .dataframe tbody tr th:only-of-type {\n",
       "        vertical-align: middle;\n",
       "    }\n",
       "\n",
       "    .dataframe tbody tr th {\n",
       "        vertical-align: top;\n",
       "    }\n",
       "\n",
       "    .dataframe thead th {\n",
       "        text-align: right;\n",
       "    }\n",
       "</style>\n",
       "<table border=\"1\" class=\"dataframe\">\n",
       "  <thead>\n",
       "    <tr style=\"text-align: right;\">\n",
       "      <th></th>\n",
       "      <th>month_received</th>\n",
       "      <th>year_received</th>\n",
       "      <th>month_closed</th>\n",
       "      <th>year_closed</th>\n",
       "      <th>command_at_incident</th>\n",
       "      <th>rank_abbrev_incident</th>\n",
       "      <th>mos_ethnicity</th>\n",
       "      <th>mos_gender</th>\n",
       "      <th>mos_age_incident</th>\n",
       "      <th>complainant_ethnicity</th>\n",
       "      <th>complainant_gender</th>\n",
       "      <th>complainant_age_incident</th>\n",
       "      <th>fado_type</th>\n",
       "      <th>allegation</th>\n",
       "      <th>contact_reason</th>\n",
       "      <th>status</th>\n",
       "      <th>ethnicity_difference</th>\n",
       "      <th>duration</th>\n",
       "    </tr>\n",
       "  </thead>\n",
       "  <tbody>\n",
       "    <tr>\n",
       "      <th>0</th>\n",
       "      <td>7</td>\n",
       "      <td>2019</td>\n",
       "      <td>5</td>\n",
       "      <td>2020</td>\n",
       "      <td>078 PCT</td>\n",
       "      <td>POM</td>\n",
       "      <td>Hispanic</td>\n",
       "      <td>M</td>\n",
       "      <td>32</td>\n",
       "      <td>Black</td>\n",
       "      <td>Female</td>\n",
       "      <td>38</td>\n",
       "      <td>Abuse of Authority</td>\n",
       "      <td>Failure to provide RTKA card</td>\n",
       "      <td>Report-domestic dispute</td>\n",
       "      <td>1</td>\n",
       "      <td>0</td>\n",
       "      <td>305</td>\n",
       "    </tr>\n",
       "    <tr>\n",
       "      <th>1</th>\n",
       "      <td>11</td>\n",
       "      <td>2011</td>\n",
       "      <td>8</td>\n",
       "      <td>2012</td>\n",
       "      <td>PBBS</td>\n",
       "      <td>POM</td>\n",
       "      <td>White</td>\n",
       "      <td>M</td>\n",
       "      <td>24</td>\n",
       "      <td>Black</td>\n",
       "      <td>Male</td>\n",
       "      <td>26</td>\n",
       "      <td>Discourtesy</td>\n",
       "      <td>Action</td>\n",
       "      <td>Moving violation</td>\n",
       "      <td>1</td>\n",
       "      <td>0</td>\n",
       "      <td>274</td>\n",
       "    </tr>\n",
       "    <tr>\n",
       "      <th>2</th>\n",
       "      <td>11</td>\n",
       "      <td>2011</td>\n",
       "      <td>8</td>\n",
       "      <td>2012</td>\n",
       "      <td>PBBS</td>\n",
       "      <td>POM</td>\n",
       "      <td>White</td>\n",
       "      <td>M</td>\n",
       "      <td>24</td>\n",
       "      <td>Black</td>\n",
       "      <td>Male</td>\n",
       "      <td>26</td>\n",
       "      <td>Offensive Language</td>\n",
       "      <td>Race</td>\n",
       "      <td>Moving violation</td>\n",
       "      <td>1</td>\n",
       "      <td>0</td>\n",
       "      <td>274</td>\n",
       "    </tr>\n",
       "    <tr>\n",
       "      <th>3</th>\n",
       "      <td>7</td>\n",
       "      <td>2012</td>\n",
       "      <td>9</td>\n",
       "      <td>2013</td>\n",
       "      <td>PBBS</td>\n",
       "      <td>POM</td>\n",
       "      <td>White</td>\n",
       "      <td>M</td>\n",
       "      <td>25</td>\n",
       "      <td>Black</td>\n",
       "      <td>Male</td>\n",
       "      <td>45</td>\n",
       "      <td>Abuse of Authority</td>\n",
       "      <td>Question</td>\n",
       "      <td>PD suspected C/V of violation/crime - street</td>\n",
       "      <td>1</td>\n",
       "      <td>0</td>\n",
       "      <td>427</td>\n",
       "    </tr>\n",
       "    <tr>\n",
       "      <th>4</th>\n",
       "      <td>8</td>\n",
       "      <td>2018</td>\n",
       "      <td>2</td>\n",
       "      <td>2019</td>\n",
       "      <td>078 PCT</td>\n",
       "      <td>POF</td>\n",
       "      <td>Hispanic</td>\n",
       "      <td>F</td>\n",
       "      <td>39</td>\n",
       "      <td>Unknown</td>\n",
       "      <td>Not described</td>\n",
       "      <td>16</td>\n",
       "      <td>Force</td>\n",
       "      <td>Physical force</td>\n",
       "      <td>Report-dispute</td>\n",
       "      <td>1</td>\n",
       "      <td>0</td>\n",
       "      <td>184</td>\n",
       "    </tr>\n",
       "  </tbody>\n",
       "</table>\n",
       "</div>"
      ],
      "text/plain": [
       "   month_received  year_received  month_closed  year_closed  \\\n",
       "0               7           2019             5         2020   \n",
       "1              11           2011             8         2012   \n",
       "2              11           2011             8         2012   \n",
       "3               7           2012             9         2013   \n",
       "4               8           2018             2         2019   \n",
       "\n",
       "  command_at_incident rank_abbrev_incident mos_ethnicity mos_gender  \\\n",
       "0             078 PCT                  POM      Hispanic          M   \n",
       "1                PBBS                  POM         White          M   \n",
       "2                PBBS                  POM         White          M   \n",
       "3                PBBS                  POM         White          M   \n",
       "4             078 PCT                  POF      Hispanic          F   \n",
       "\n",
       "   mos_age_incident complainant_ethnicity complainant_gender  \\\n",
       "0                32                 Black             Female   \n",
       "1                24                 Black               Male   \n",
       "2                24                 Black               Male   \n",
       "3                25                 Black               Male   \n",
       "4                39               Unknown      Not described   \n",
       "\n",
       "   complainant_age_incident           fado_type                    allegation  \\\n",
       "0                        38  Abuse of Authority  Failure to provide RTKA card   \n",
       "1                        26         Discourtesy                        Action   \n",
       "2                        26  Offensive Language                          Race   \n",
       "3                        45  Abuse of Authority                      Question   \n",
       "4                        16               Force                Physical force   \n",
       "\n",
       "                                 contact_reason  status  ethnicity_difference  \\\n",
       "0                       Report-domestic dispute       1                     0   \n",
       "1                              Moving violation       1                     0   \n",
       "2                              Moving violation       1                     0   \n",
       "3  PD suspected C/V of violation/crime - street       1                     0   \n",
       "4                                Report-dispute       1                     0   \n",
       "\n",
       "   duration  \n",
       "0       305  \n",
       "1       274  \n",
       "2       274  \n",
       "3       427  \n",
       "4       184  "
      ]
     },
     "execution_count": 13,
     "metadata": {},
     "output_type": "execute_result"
    }
   ],
   "source": [
    "police_new.head()"
   ]
  },
  {
   "cell_type": "code",
   "execution_count": 14,
   "metadata": {},
   "outputs": [
    {
     "name": "stdout",
     "output_type": "stream",
     "text": [
      "0.7659698736672652\n",
      "[0.7630315883469138, 0.7708403644954438, 0.7633859142412798, 0.7610224355396809, 0.7715690657130084]\n"
     ]
    }
   ],
   "source": [
    "# Try random forest with new features (with default parameters)\n",
    "preproc = ColumnTransformer(\n",
    "    transformers=[\n",
    "        ('oneHot', OneHotEncoder(handle_unknown = 'ignore'), \n",
    "         ['mos_ethnicity', 'mos_gender', 'complainant_ethnicity', \n",
    "          'complainant_gender', \n",
    "          'fado_type', 'contact_reason','rank_abbrev_incident',\n",
    "          'command_at_incident', 'allegation'])], \n",
    "    remainder = 'passthrough')\n",
    "pl = Pipeline([('one_hot',preproc), ('RFC', RandomForestClassifier())\n",
    "              ])\n",
    "test=[]\n",
    "# Check out the mean F1 score, also check out the fluctuations across 5 trials\n",
    "for _ in range(5):\n",
    "    X_train, X_test, y_train, y_test = train_test_split(\n",
    "            police_new.drop(columns=['status']),\n",
    "            police_new['status'], \n",
    "            test_size=0.25)\n",
    "    pl.fit(X_train, y_train)\n",
    "    test_result = pl.predict(X_test)\n",
    "    test_accuracy = f1_score(y_test, test_result)\n",
    "    test.append(test_accuracy)\n",
    "    \n",
    "print(np.mean(test))\n",
    "print(test)\n"
   ]
  },
  {
   "cell_type": "code",
   "execution_count": null,
   "metadata": {},
   "outputs": [],
   "source": []
  },
  {
   "cell_type": "markdown",
   "metadata": {},
   "source": [
    "The feature-engineered model is indeed better than the original Random Forest Model, but there are still ways to improve."
   ]
  },
  {
   "cell_type": "markdown",
   "metadata": {},
   "source": [
    "### Find the best parameter (max_depth)"
   ]
  },
  {
   "cell_type": "code",
   "execution_count": 15,
   "metadata": {},
   "outputs": [
    {
     "name": "stdout",
     "output_type": "stream",
     "text": [
      "Best parameter (CV score=0.745):\n",
      "{'RFC__max_depth': 250}\n"
     ]
    }
   ],
   "source": [
    "# modify the parameters of the random forest to seek for the best prameter\n",
    "parameters = {'RFC__max_depth':[150, 200, 250, 300, None]}\n",
    "clf = GridSearchCV(pl, parameters, cv=5, scoring = 'f1')\n",
    "clf.fit(police_new.drop(columns=['status']), police_new['status'])\n",
    "print(\"Best parameter (CV score=%0.3f):\" % clf.best_score_)\n",
    "print(clf.best_params_)"
   ]
  },
  {
   "cell_type": "code",
   "execution_count": 16,
   "metadata": {},
   "outputs": [
    {
     "name": "stdout",
     "output_type": "stream",
     "text": [
      "Best parameter (CV score=0.746):\n",
      "{'RFC__max_depth': 220}\n"
     ]
    }
   ],
   "source": [
    "# modify the parameters of the random forest to seek for the best prameter\n",
    "parameters = {'RFC__max_depth':[220, 250, 270]}\n",
    "clf = GridSearchCV(pl, parameters, cv=5, scoring = 'f1')\n",
    "clf.fit(police_new.drop(columns=['status']), police_new['status'])\n",
    "print(\"Best parameter (CV score=%0.3f):\" % clf.best_score_)\n",
    "print(clf.best_params_)"
   ]
  },
  {
   "cell_type": "code",
   "execution_count": 17,
   "metadata": {},
   "outputs": [
    {
     "name": "stdout",
     "output_type": "stream",
     "text": [
      "Best parameter (CV score=0.745):\n",
      "{'RFC__max_depth': 220}\n"
     ]
    }
   ],
   "source": [
    "# modify the parameters of the random forest to seek for the best prameter\n",
    "parameters = {'RFC__max_depth':[210, 220, 230]}\n",
    "clf = GridSearchCV(pl, parameters, cv=5, scoring = 'f1')\n",
    "clf.fit(police_new.drop(columns=['status']), police_new['status'])\n",
    "print(\"Best parameter (CV score=%0.3f):\" % clf.best_score_)\n",
    "print(clf.best_params_)"
   ]
  },
  {
   "cell_type": "markdown",
   "metadata": {},
   "source": [
    "After gradually narrow down the range for the max-depth of the classifier using Grid Search Cross-validation, we found that the best model and our final model should be the Random Forest classifer with roughly 220 as the max-depth."
   ]
  },
  {
   "cell_type": "markdown",
   "metadata": {},
   "source": [
    "### Get the best model"
   ]
  },
  {
   "cell_type": "code",
   "execution_count": 19,
   "metadata": {},
   "outputs": [
    {
     "name": "stdout",
     "output_type": "stream",
     "text": [
      "0.7644372952543749\n",
      "[0.7648826082118616, 0.7649933362949799, 0.7650931815645575, 0.7646793134598013, 0.7625380367406739]\n"
     ]
    }
   ],
   "source": [
    "preproc = ColumnTransformer(\n",
    "    transformers=[\n",
    "        ('oneHot', OneHotEncoder(handle_unknown = 'ignore'), \n",
    "         ['mos_ethnicity', 'mos_gender', 'complainant_ethnicity',\n",
    "          'complainant_gender', \n",
    "          'fado_type', 'contact_reason',\n",
    "          'rank_abbrev_incident', \n",
    "          'command_at_incident', 'allegation'])], \n",
    "    remainder = 'passthrough')\n",
    "pl = Pipeline([('one_hot',preproc), ('RFC', RandomForestClassifier(max_depth=220))\n",
    "              ])\n",
    "\n",
    "test=[]\n",
    "for _ in range(5):\n",
    "    X_train, X_test, y_train, y_test = train_test_split(\n",
    "            police_new.drop(columns=['status']),\n",
    "            police_new['status'], \n",
    "            test_size=0.25)\n",
    "    pl.fit(X_train, y_train)\n",
    "    test_result = pl.predict(X_test)\n",
    "    test_accuracy = f1_score(y_test, test_result)\n",
    "    test.append(test_accuracy)\n",
    "    \n",
    "print(np.mean(test))\n",
    "print(test)\n"
   ]
  },
  {
   "cell_type": "markdown",
   "metadata": {},
   "source": [
    "One thing to notice is that the mean F1 socre for our best model is not much different to the mean F1 score for the model with default setting (max_depth = 'none'). However, after checking the all the scores, it's clear that the flucturation for the default model is much larger. This is because we do not give a ramdom_state for the model as well as the train_test split, and the overfitted default model will be affected more by this randomness. Thus, the improved model is overall better than the default one."
   ]
  },
  {
   "cell_type": "markdown",
   "metadata": {},
   "source": [
    "<hr>"
   ]
  },
  {
   "cell_type": "markdown",
   "metadata": {},
   "source": [
    "## Fairness Evaluation"
   ]
  },
  {
   "cell_type": "markdown",
   "metadata": {},
   "source": [
    "Use a permutation test to check whether or not the difference of precision score on white and non-white officers is due to chance."
   ]
  },
  {
   "cell_type": "code",
   "execution_count": 21,
   "metadata": {},
   "outputs": [
    {
     "name": "stdout",
     "output_type": "stream",
     "text": [
      "0.00819517299871364\n",
      "0.53\n"
     ]
    }
   ],
   "source": [
    "# Split train and test dataset since we still \n",
    "# want to check the fairness on the \"unseen\" data\n",
    "# Train using the best final model above\n",
    "X_train, X_test, y_train, y_test = train_test_split(\n",
    "        police_new.drop(columns=['status']),\n",
    "        police_new['status'], \n",
    "        test_size=0.25)\n",
    "\n",
    "# Fit the model with training data and predict using test data\n",
    "pl.fit(X_train, y_train)\n",
    "\n",
    "# Combine test data and prediction from the model\n",
    "with_prediction = pd.concat([X_test, y_test], axis=1).assign(\n",
    "    prediction = pl.predict(X_test))\n",
    "\n",
    "# Binarize the ethnicity and find the observed absolute \n",
    "# difference between precision scores across \n",
    "# white VS non-white officers\n",
    "with_prediction['mos_ethnicity'] = np.where(with_prediction['mos_ethnicity'] == \n",
    "                                            'White', 'White', 'Non-white')\n",
    "obs = with_prediction.groupby('mos_ethnicity').apply(lambda x: \n",
    "                            precision_score(x.status, \n",
    "                                            x.prediction)).diff().abs().iloc[-1]\n",
    "print(obs)\n",
    "\n",
    "# Permutation test: permute the ethnicity column and \n",
    "# randomly assign to each outcome, then record\n",
    "# the absolute difference between precision scores \n",
    "# between white VS non-white officers since the \n",
    "# alternative hypothesis is two-tailed\n",
    "diffs = []\n",
    "trial = 100\n",
    "for _ in range(trial):\n",
    "    permuted = with_prediction.assign(mos_ethnicity = \n",
    "                    np.random.permutation(with_prediction[\"mos_ethnicity\"].values))\n",
    "    diff = permuted.groupby('mos_ethnicity').apply(lambda x: \n",
    "                    precision_score(x.status, x.prediction)).diff().abs().iloc[-1]\n",
    "    diffs.append(diff)\n",
    "    \n",
    "# Calculate P values, the proportion of permutation results at least as extreme as \n",
    "# the observed difference\n",
    "print(np.mean(diffs >= obs))"
   ]
  },
  {
   "cell_type": "markdown",
   "metadata": {},
   "source": [
    "The p-value is significantly larger than 0.05, thus we fail to reject the null hypothesis"
   ]
  },
  {
   "cell_type": "code",
   "execution_count": 22,
   "metadata": {},
   "outputs": [
    {
     "data": {
      "text/plain": [
       "<matplotlib.lines.Line2D at 0x7fe173e80eb0>"
      ]
     },
     "execution_count": 22,
     "metadata": {},
     "output_type": "execute_result"
    },
    {
     "data": {
      "image/png": "[encoded data removed]",
      "text/plain": [
       "<Figure size 432x288 with 1 Axes>"
      ]
     },
     "metadata": {
      "image/png": {
       "height": 248,
       "width": 382
      },
      "needs_background": "light"
     },
     "output_type": "display_data"
    }
   ],
   "source": [
    "# Histogram for the permutated absolute value of precision scores difference \n",
    "# and the observed difference, the observed value is not very extreme\n",
    "sns.histplot(data = diffs).axvline(x=obs, color='r')"
   ]
  },
  {
   "cell_type": "markdown",
   "metadata": {},
   "source": [
    " Check out the confusion matrix for the predictions.\n",
    " The upper-right corner is the number of cases that are false positive."
   ]
  },
  {
   "cell_type": "code",
   "execution_count": 23,
   "metadata": {},
   "outputs": [
    {
     "data": {
      "text/plain": [
       "<AxesSubplot:>"
      ]
     },
     "execution_count": 23,
     "metadata": {},
     "output_type": "execute_result"
    },
    {
     "data": {
      "image/png": "[encoded data removed]",
      "text/plain": [
       "<Figure size 432x288 with 2 Axes>"
      ]
     },
     "metadata": {
      "image/png": {
       "height": 248,
       "width": 358
      },
      "needs_background": "light"
     },
     "output_type": "display_data"
    }
   ],
   "source": [
    "# Confusion matrix for white officers\n",
    "white_of = with_prediction[with_prediction['mos_ethnicity'] == 'White']\n",
    "w_prediction = confusion_matrix(white_of.status, white_of.prediction)\n",
    "sns.heatmap(w_prediction, annot=True, cmap='Blues')"
   ]
  },
  {
   "cell_type": "code",
   "execution_count": 24,
   "metadata": {},
   "outputs": [
    {
     "data": {
      "text/plain": [
       "<AxesSubplot:>"
      ]
     },
     "execution_count": 24,
     "metadata": {},
     "output_type": "execute_result"
    },
    {
     "data": {
      "image/png": "[encoded data removed]",
      "text/plain": [
       "<Figure size 432x288 with 2 Axes>"
      ]
     },
     "metadata": {
      "image/png": {
       "height": 248,
       "width": 358
      },
      "needs_background": "light"
     },
     "output_type": "display_data"
    }
   ],
   "source": [
    "# Confusion matrix for non-white officers\n",
    "n_white_of = with_prediction[with_prediction['mos_ethnicity'] != 'White']\n",
    "n_w_prediction = confusion_matrix(n_white_of.status, n_white_of.prediction)\n",
    "n_w_prediction\n",
    "sns.heatmap(n_w_prediction, annot=True, cmap='Blues')"
   ]
  },
  {
   "cell_type": "markdown",
   "metadata": {},
   "source": [
    "The matrix for white and non-white officers indeed have similar false positive rate."
   ]
  },
  {
   "cell_type": "markdown",
   "metadata": {},
   "source": [
    "<hr>"
   ]
  },
  {
   "cell_type": "markdown",
   "metadata": {},
   "source": [
    "# Finish!"
   ]
  },
  {
   "cell_type": "code",
   "execution_count": null,
   "metadata": {},
   "outputs": [],
   "source": []
  }
 ],
 "metadata": {
  "kernelspec": {
   "display_name": "Python 3",
   "language": "python",
   "name": "python3"
  },
  "language_info": {
   "codemirror_mode": {
    "name": "ipython",
    "version": 3
   },
   "file_extension": ".py",
   "mimetype": "text/x-python",
   "name": "python",
   "nbconvert_exporter": "python",
   "pygments_lexer": "ipython3",
   "version": "3.8.5"
  }
 },
 "nbformat": 4,
 "nbformat_minor": 2
}
